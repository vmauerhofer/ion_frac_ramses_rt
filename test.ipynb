{
 "cells": [
  {
   "cell_type": "code",
   "execution_count": 1,
   "id": "f6d124a5-c14a-4b6e-a694-f240be15cd55",
   "metadata": {},
   "outputs": [],
   "source": [
    "from chemical_network_builder import ChemicalNetworkBuilder\n",
    "# from astro import constants as c"
   ]
  },
  {
   "cell_type": "code",
   "execution_count": null,
   "id": "6fb4e0ef-4147-49cc-b2fa-026eb52de24d",
   "metadata": {},
   "outputs": [],
   "source": [
    "builder = ChemicalNetworkBuilder()\n",
    "elements = {'C': 2, 'O': 4}\n",
    "path_test_network = './test_network'\n",
    "\n",
    "builder.build_krome_network(elements, path_test_network)\n",
    "\n"
   ]
  },
  {
   "cell_type": "code",
   "execution_count": null,
   "id": "28bd2f2c-29e5-4b4f-b613-75f0dff9f108",
   "metadata": {},
   "outputs": [],
   "source": []
  },
  {
   "cell_type": "code",
   "execution_count": null,
   "id": "9987c483-ea6b-4e1c-808f-70cb552938bb",
   "metadata": {},
   "outputs": [],
   "source": []
  },
  {
   "cell_type": "code",
   "execution_count": null,
   "id": "45ebb268-9a2b-4d74-96ed-bfb1b8931190",
   "metadata": {},
   "outputs": [],
   "source": [
    "print(\"RR C++ into C+ (Z=6, N=4):\")\n",
    "print(builder.get_RR_rate(Z=6, N=4))\n",
    "print()\n",
    "\n",
    "print(\"DR C++ into C+ (Z=6, N=4):\")\n",
    "print(builder.get_DR_rate(Z=6, N=4))\n",
    "print()\n",
    "\n",
    "print(\"RR O++++ into O+++ (Z=8, N=4):\")\n",
    "print(builder.get_RR_rate(Z=8, N=4))  # should return \"0d0\"\n",
    "print()\n",
    "\n",
    "print(\"CI O++ into O+++ (Z=8, N=6):\")\n",
    "print(builder.get_CI_rate(Z=8, N=6))  # should return \"0d0\""
   ]
  },
  {
   "cell_type": "code",
   "execution_count": null,
   "id": "8b38b3d7-48a6-4c8e-b982-b697fca3ac4b",
   "metadata": {},
   "outputs": [],
   "source": []
  },
  {
   "cell_type": "code",
   "execution_count": null,
   "id": "f6ee7154-adfc-4184-ab11-e00f8af0ce83",
   "metadata": {},
   "outputs": [],
   "source": [
    "def prepare_krome_network(path_to_rates,path_to_network,element,ion_number):\n",
    "    \n",
    "    elements_Z = element\n",
    "    max_ion = ion_number\n",
    "    \n",
    "    count=1\n",
    "    network = ''\n",
    "    #Recombinations\n",
    "    network += '@var: T = Tgas \\n \\n \\n#RECOMBINATION, from Badnell website : \\n#http://amdpp.phys.strath.ac.uk/tamoc/RR \\n#http://amdpp.phys.strath.ac.uk/tamoc/DR \\n \\n@format:idx,R,R,P,rate \\n'\n",
    "    for i in [1,2]:\n",
    "        for j in range(i):\n",
    "            network += str(count) + ',' + element_names[i-1] + '+'*(j+1) + ',E,' + element_names[i-1] + '+'*j\n",
    "            network += ', 0d0 \\n'\n",
    "            count += 1\n",
    "    network += '\\n'\n",
    "    k=0\n",
    "    for i in elements_Z:\n",
    "        for j in range(min(i,max_ion[k])):\n",
    "            network += str(count) + ',' + element_names[i-1] + '+'*(j+1) + ',E,' + element_names[i-1] + '+'*j\n",
    "            if((i==16) or ((i==26)&(j>3))):\n",
    "                network += ', auto \\n'\n",
    "            else:\n",
    "                network += ', ' + RR_Badnell(path_to_rates,i,i-j-1) + ' + ' + DR_Badnell(path_to_rates,i,i-j-1) + '\\n'\n",
    "            count += 1\n",
    "        k+=1\n",
    "        network += '\\n'\n",
    "\n",
    "    #Collisions\n",
    "    network += '\\n \\n#COLLISIONS, from Voronov 1997 \\n \\n@format:idx,R,R,P,P,P,rate \\n'\n",
    "    for i in [1,2]:\n",
    "        for j in range(i):\n",
    "            network += str(count) + ',' + element_names[i-1] + '+'*j + ',E,' + element_names[i-1] + '+'*(j+1)  + ',E,E, '\n",
    "            network += '0d0 \\n'\n",
    "            count+=1\n",
    "    k=0\n",
    "    for i in elements_Z:\n",
    "        for j in range(min(i,max_ion[k])):\n",
    "            network += str(count) + ',' + element_names[i-1] + '+'*j + ',E,' + element_names[i-1] + '+'*(j+1)  + ',E,E, '\n",
    "            if((i==16) or (i==26)):\n",
    "                network += 'auto \\n'\n",
    "            else:\n",
    "                network += Col_Voronov(path_to_rates,i,i-j) + '\\n'\n",
    "            count += 1\n",
    "        k+=1\n",
    "        network += '\\n'\n",
    "\n",
    "    #Photoionization\n",
    "    network += '\\n \\n#Photoionization \\n \\n@photo_start \\n@format:idx,R,P,P,rate \\n'\n",
    "    k=0\n",
    "    for i in elements_Z:\n",
    "        for j in range(min(i,max_ion[k])):\n",
    "            network += str(count) + ',' + element_names[i-1] + '+'*j + ',' + element_names[i-1] + '+'*(j+1) + ',E, auto \\n'\n",
    "            count += 1\n",
    "        k+=1\n",
    "    network += '\\n@photo_stop \\n'\n",
    "\n",
    "    f=open(path_to_network,'w')\n",
    "    f.write(network)\n",
    "    f.close()"
   ]
  },
  {
   "cell_type": "code",
   "execution_count": null,
   "id": "c3da75ed-5b05-478e-9a97-e7fed72f7fec",
   "metadata": {},
   "outputs": [],
   "source": []
  }
 ],
 "metadata": {
  "kernelspec": {
   "display_name": "Python (my_env)",
   "language": "python",
   "name": "my_env"
  },
  "language_info": {
   "codemirror_mode": {
    "name": "ipython",
    "version": 3
   },
   "file_extension": ".py",
   "mimetype": "text/x-python",
   "name": "python",
   "nbconvert_exporter": "python",
   "pygments_lexer": "ipython3",
   "version": "3.12.3"
  }
 },
 "nbformat": 4,
 "nbformat_minor": 5
}
